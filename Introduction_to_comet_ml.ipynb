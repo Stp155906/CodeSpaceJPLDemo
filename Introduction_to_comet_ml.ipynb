{
  "nbformat": 4,
  "nbformat_minor": 0,
  "metadata": {
    "kernelspec": {
      "display_name": "Python 3",
      "language": "python",
      "name": "python3"
    },
    "language_info": {
      "codemirror_mode": {
        "name": "ipython",
        "version": 3
      },
      "file_extension": ".py",
      "mimetype": "text/x-python",
      "name": "python",
      "nbconvert_exporter": "python",
      "pygments_lexer": "ipython3",
      "version": "3.6.7"
    },
    "colab": {
      "name": "Introduction to comet_ml.ipynb",
      "provenance": [],
      "collapsed_sections": [],
      "include_colab_link": true
    }
  },
  "cells": [
    {
      "cell_type": "markdown",
      "metadata": {
        "id": "view-in-github",
        "colab_type": "text"
      },
      "source": [
        "<a href=\"https://colab.research.google.com/github/Stp155906/CodeSpaceJPLDemo/blob/main/Introduction_to_comet_ml.ipynb\" target=\"_parent\"><img src=\"https://colab.research.google.com/assets/colab-badge.svg\" alt=\"Open In Colab\"/></a>"
      ]
    },
    {
      "cell_type": "markdown",
      "metadata": {
        "id": "2_83FdfidSwN"
      },
      "source": [
        "# Comet-ml\n",
        "This is a short introduction to comet-ml, aka Comet, which will be a useful tool in training and tracking your models in this course. \n",
        "\n",
        "Note that you are by no means required to use Comet for this course, but we recommend experimenting with it a bit as we have found it makes debugging models significantly easier, and produces some pretty pictures while your model is running so you can easily stop training if your model does not seem to be learning. \n",
        "\n",
        "If you are familiar with Tensorboard (a training visualization framework integreated into Tensorflow), Comet is similar but support mulitple experiments running at the same time and has deeper reporting capabilities than Tensorboard.\n",
        "\n",
        "Note that you can use Comet with the both the Tensorflow and PyTorch frameworks, as well as any IDE (because the results are displayed on a web browser). \n",
        "\n"
      ]
    },
    {
      "cell_type": "markdown",
      "metadata": {
        "id": "-M8RqzWtcax7"
      },
      "source": [
        "# Installation and Getting Started:\n",
        "\n",
        "First, sign up (free) on comet.ml and obtain an API key at https://www.comet.ml\n",
        "\n",
        "Then, the recommended way to install comet-ml is by using:\n",
        "\n",
        "\n",
        "```\n",
        "pip install comet-ml\n",
        "```\n",
        "or\n",
        "```\n",
        "conda install comet_ml -c comet_ml\n",
        "```\n",
        "This should install the latest version (3.0.2)\n",
        "\n",
        "We encourage you to look at the startup scripts that are provided at www.comet.ml/help/quickstart in order to see how the API works. Below is a sample script using the PyTorch framework that is adapted from the quickstart guide.\n",
        "\n",
        "\n"
      ]
    },
    {
      "cell_type": "code",
      "metadata": {
        "id": "YFaF9Y4fRMZ-",
        "outputId": "2c5b3396-5d01-4bd3-a36e-ae8dc625aff8",
        "colab": {
          "base_uri": "https://localhost:8080/",
          "height": 125
        }
      },
      "source": [
        "#The Experiment class is the key feature of Comet we will be using, \n",
        "#creating an experiment object in your training script will allow you to track \n",
        "#your training\n",
        "from comet_ml import Experiment\n",
        "import torch \n",
        "import torch.nn as nn\n",
        "import torchvision.datasets as dsets\n",
        "import torchvision.transforms as transforms\n",
        "from torch.autograd import Variable\n",
        "\n",
        "#sample hyperparameters for a model that we will create \n",
        "hyper_params = {\n",
        "    \"sequence_length\": 28,\n",
        "    \"input_size\": 28,\n",
        "    \"hidden_size\": 128,\n",
        "    \"num_layers\":2,\n",
        "    \"num_classes\": 10,\n",
        "    \"batch_size\": 100,\n",
        "    \"num_epochs\":2,\n",
        "    \"learning_rate\":0.01\n",
        "}\n",
        "\n",
        "API_KEY = #insert your api key from your comet-ml account here\n",
        "PROJ_NAME = #insert your project name here\n",
        "WORKSPACE = #insert your comet-ml username here\n",
        "experiment = Experiment(api_key=API_KEY,\n",
        "                        project_name=PROJ_NAME, workspace=WORKSPACE)\n",
        "\n",
        "#Log the hyperparameters you selected to your experiment, you should be \n",
        "#able to see these hyperparameters when you run your experiment\n",
        "experiment.log_parameters(hyper_params)\n",
        "\n",
        "#load the MNIST dataset as a toy dataset \n",
        "train_dataset = dsets.MNIST(root='./data/', \n",
        "                           train=True,\n",
        "                           transform = transforms.ToTensor(),\n",
        "                           download=True)\n",
        "\n",
        "test_dataset = dsets.MNIST(root='./data/', \n",
        "                           train=False,\n",
        "                           transform = transforms.ToTensor())\n",
        "\n",
        "#Create a dataLoader object for training (see intro to PyTorch for more \n",
        "#information)\n",
        "train_loader = torch.utils.data.DataLoader(dataset=train_dataset,\n",
        "                                           batch_size=hyper_params['batch_size'],\n",
        "                                           shuffle=True)\n",
        "#Create a dataLoader object for testing\n",
        "test_loader = torch.utils.data.DataLoader(dataset=test_dataset,\n",
        "                                          batch_size=hyper_params['batch_size'],\n",
        "                                          shuffle=False)\n",
        "#define your model\n",
        "class RNN(nn.Module):\n",
        "    def __init__(self, input_size, hidden_size, num_layers, num_classes):\n",
        "        super(RNN, self).__init__()\n",
        "        self.hidden_size = hidden_size\n",
        "        self.num_layers = num_layers\n",
        "        self.lstm = nn.LSTM(input_size, hidden_size, num_layers, batch_first=True)\n",
        "        self.fc = nn.Linear(hidden_size, num_classes)\n",
        "\n",
        "    def forward(self, x):\n",
        "        # Set initial states\n",
        "        h0 = Variable(torch.zeros(self.num_layers, x.size(0), self.hidden_size))\n",
        "        c0 = Variable(torch.zeros(self.num_layers, x.size(0), self.hidden_size))\n",
        "\n",
        "        # Forward propagate RNN\n",
        "        out, _ = self.lstm(x, (h0, c0))\n",
        "\n",
        "        # Decode hidden state of last time step\n",
        "        out = self.fc(out[:, -1, :])\n",
        "        return out\n",
        "\n",
        "rnn = RNN(hyper_params['input_size'], hyper_params['hidden_size'], \n",
        "          hyper_params['num_layers'], hyper_params['num_classes'])\n",
        "\n",
        "# Loss and Optimizer\n",
        "criterion = nn.CrossEntropyLoss()\n",
        "optimizer = torch.optim.Adam(rnn.parameters(), lr=hyper_params['learning_rate'])\n",
        "\n",
        "'''\n",
        "Train the Model, calling the train loop under \n",
        "the experiment.train() allows you to provide a namespace \n",
        "for metrics and parameters that you are tracking. \n",
        "For example, \"accuracy\" is reported as train_accuracy in Comet.\n",
        "'''\n",
        "with experiment.train():\n",
        "    for epoch in range(hyper_params['num_epochs']):\n",
        "        correct = 0\n",
        "        total = 0\n",
        "        for i, (images, labels) in enumerate(train_loader):\n",
        "            images = Variable(images.view(-1, hyper_params['sequence_length'], hyper_params['input_size']))\n",
        "            labels = Variable(labels)\n",
        "\n",
        "            # Forward + Backward + Optimize\n",
        "            optimizer.zero_grad()\n",
        "            outputs = rnn(images)\n",
        "            loss = criterion(outputs, labels)\n",
        "            loss.backward()\n",
        "            optimizer.step()\n",
        "\n",
        "            # Compute train accuracy\n",
        "            _, predicted = torch.max(outputs.data, 1)\n",
        "            total += labels.size(0)\n",
        "            correct += (predicted == labels.data).sum()\n",
        "\n",
        "            # Log to Comet.ml\n",
        "            experiment.log_metric(\"accuracy\", correct / total, step=i)\n",
        "\n",
        "            if (i + 1) % 100 == 0:\n",
        "                print('Epoch [%d/%d], Step [%d/%d], Loss: %.4f'\n",
        "                      % (epoch + 1, hyper_params['num_epochs'], i + 1, len(train_dataset) // hyper_params['batch_size'], loss.item()))\n",
        "\n",
        "with experiment.test():\n",
        "    # Test the Model, create the test namespace in your experiment\n",
        "    correct = 0\n",
        "    total = 0\n",
        "    for images, labels in test_loader:\n",
        "        images = Variable(images.view(-1, hyper_params['sequence_length'], hyper_params['input_size']))\n",
        "        outputs = rnn(images)\n",
        "        _, predicted = torch.max(outputs.data, 1)\n",
        "        total += labels.size(0)\n",
        "        correct += (predicted == labels).sum()\n",
        "\n",
        "    experiment.log_metric(\"accuracy\", 100 * correct / total)\n",
        "    print('Test Accuracy of the model on the 10000 test images: %d %%' % (100 * correct / total))\n",
        "\n",
        "#make sure to end the experiment when your code is done running\n",
        "experiment.end()\n",
        "\n"
      ],
      "execution_count": null,
      "outputs": [
        {
          "output_type": "error",
          "ename": "SyntaxError",
          "evalue": "ignored",
          "traceback": [
            "\u001b[0;36m  File \u001b[0;32m\"<ipython-input-21-a22a74048d16>\"\u001b[0;36m, line \u001b[0;32m19\u001b[0m\n\u001b[0;31m    API_KEY = #insert your api key from your comet-ml account here\u001b[0m\n\u001b[0m                                                                  ^\u001b[0m\n\u001b[0;31mSyntaxError\u001b[0m\u001b[0;31m:\u001b[0m invalid syntax\n"
          ]
        }
      ]
    },
    {
      "cell_type": "code",
      "metadata": {
        "id": "2x3coS2mQX8l"
      },
      "source": [
        ""
      ],
      "execution_count": null,
      "outputs": []
    },
    {
      "cell_type": "code",
      "metadata": {
        "id": "9UiwxYJjQX8o"
      },
      "source": [
        ""
      ],
      "execution_count": null,
      "outputs": []
    }
  ]
}